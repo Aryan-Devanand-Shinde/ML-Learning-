{
 "cells": [
  {
   "cell_type": "markdown",
   "id": "64e11de2-0b10-41fd-9c10-87b9ff069785",
   "metadata": {},
   "source": [
    "DATA Collecction using API:\n",
    "\n",
    "that how does the API functioning works:"
   ]
  },
  {
   "cell_type": "code",
   "execution_count": 1,
   "id": "6f7e6cb1-fe7a-4ce7-8070-583ea6e2d10a",
   "metadata": {},
   "outputs": [],
   "source": [
    "import requests as rq"
   ]
  },
  {
   "cell_type": "code",
   "execution_count": 2,
   "id": "961dc9e9-46bd-4e2f-b013-6c3622afe606",
   "metadata": {},
   "outputs": [
    {
     "data": {
      "text/plain": [
       "'London'"
      ]
     },
     "execution_count": 2,
     "metadata": {},
     "output_type": "execute_result"
    }
   ],
   "source": [
    "API_KEY = \"1a91d1d783d0e1acb7686277e2c95786\"\n",
    "BASE_URL = \"http://api.openweathermap.org/data/2.5/weather?\"\n",
    "# city = input(\"Enter the name of city\").capitalize()\n",
    "city = \"London\"\n",
    "city"
   ]
  },
  {
   "cell_type": "code",
   "execution_count": 3,
   "id": "28ba3ebc-8ea0-4397-abec-f358b7f6cde8",
   "metadata": {},
   "outputs": [],
   "source": [
    "COMPLETE_URL = f\"{BASE_URL}q={city}&appid={API_KEY}\" "
   ]
  },
  {
   "cell_type": "code",
   "execution_count": 4,
   "id": "f3eaee29-d326-43ab-b1fe-29f25bfcf108",
   "metadata": {},
   "outputs": [
    {
     "data": {
      "text/plain": [
       "401"
      ]
     },
     "execution_count": 4,
     "metadata": {},
     "output_type": "execute_result"
    }
   ],
   "source": [
    "response = rq.get(COMPLETE_URL)\n",
    "response.status_code"
   ]
  },
  {
   "cell_type": "code",
   "execution_count": 5,
   "id": "f75fc491-f7ab-4f5d-a653-bba502a695fd",
   "metadata": {},
   "outputs": [
    {
     "name": "stdout",
     "output_type": "stream",
     "text": [
      "ERROR in HHTPS req\n"
     ]
    }
   ],
   "source": [
    "if response.status_code == 200:\n",
    "    data = response.json()\n",
    "\n",
    "    main = data['main']\n",
    "    temperature = data['temp']\n",
    "    humidity = main['humidity']\n",
    "    weather_description = data['weather'][0]['description']\n",
    "\n",
    "     # Print the collected data\n",
    "    print(f\"City: {city}\")\n",
    "    print(f\"Temperature: {temperature}K\")\n",
    "    print(f\"Humidity: {humidity}%\")\n",
    "    print(f\"Weather description: {weather_description}\")\n",
    "\n",
    "else:\n",
    "    print(\"ERROR in HHTPS req\")\n",
    "    "
   ]
  },
  {
   "cell_type": "code",
   "execution_count": null,
   "id": "b2f8bcd6-39fc-4684-9ca3-ac8748939ced",
   "metadata": {},
   "outputs": [],
   "source": []
  },
  {
   "cell_type": "code",
   "execution_count": null,
   "id": "20c147ed-f117-4b3e-9bbf-3feaa9042280",
   "metadata": {},
   "outputs": [],
   "source": []
  }
 ],
 "metadata": {
  "kernelspec": {
   "display_name": "Python 3 (ipykernel)",
   "language": "python",
   "name": "python3"
  },
  "language_info": {
   "codemirror_mode": {
    "name": "ipython",
    "version": 3
   },
   "file_extension": ".py",
   "mimetype": "text/x-python",
   "name": "python",
   "nbconvert_exporter": "python",
   "pygments_lexer": "ipython3",
   "version": "3.11.0"
  }
 },
 "nbformat": 4,
 "nbformat_minor": 5
}
