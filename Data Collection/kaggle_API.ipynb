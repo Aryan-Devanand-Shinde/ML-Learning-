{
  "cells": [
    {
      "cell_type": "code",
      "execution_count": null,
      "metadata": {
        "collapsed": true,
        "id": "9v0mNbjFD_VA"
      },
      "outputs": [],
      "source": [
        "# installing kaggle library\n",
        "!pip install kaggle"
      ]
    },
    {
      "cell_type": "markdown",
      "metadata": {
        "id": "U1PrSuwXEKxQ"
      },
      "source": [
        "Upload your kaggle.json file"
      ]
    },
    {
      "cell_type": "code",
      "execution_count": null,
      "metadata": {
        "id": "niDtEy9QELWw"
      },
      "outputs": [],
      "source": [
        "# configuring the path of laggle.json file\n",
        "!mkdir -p ~/.kaggle\n",
        "!cp kaggle.json ~/.kaggle/\n",
        "!chmod 600 ~/.kaggle/kaggle.json"
      ]
    },
    {
      "cell_type": "markdown",
      "metadata": {
        "id": "WTT1ilu5F5Yn"
      },
      "source": [
        "importing the earthquake dataset"
      ]
    },
    {
      "cell_type": "code",
      "execution_count": null,
      "metadata": {
        "colab": {
          "base_uri": "https://localhost:8080/"
        },
        "id": "T0tgF-YfF-gm",
        "outputId": "e794477c-44ef-413e-9049-768855721f59"
      },
      "outputs": [
        {
          "name": "stdout",
          "output_type": "stream",
          "text": [
            "Downloading LANL-Earthquake-Prediction.zip to /content\n",
            "100% 2.26G/2.27G [00:18<00:00, 159MB/s]\n",
            "100% 2.27G/2.27G [00:18<00:00, 130MB/s]\n"
          ]
        }
      ],
      "source": [
        "# API to fetch dataset from kaggle\n",
        "!kaggle competitions download -c LANL-Earthquake-Prediction"
      ]
    },
    {
      "cell_type": "code",
      "execution_count": null,
      "metadata": {
        "colab": {
          "background_save": true
        },
        "id": "jc5dnpvWN4X8",
        "outputId": "20c711c3-2ffc-4d99-e88e-2c673c237c55"
      },
      "outputs": [
        {
          "name": "stdout",
          "output_type": "stream",
          "text": [
            "The dataset is extracted\n"
          ]
        }
      ],
      "source": [
        "# extracting the josn file\n",
        "from zipfile import ZipFile\n",
        "dataset = \"/content/LANL-Earthquake-Prediction.zip\"\n",
        "\n",
        "with ZipFile(dataset,'r') as zip:\n",
        "  zip.extractall()\n",
        "  print('The dataset is extracted')"
      ]
    },
    {
      "cell_type": "code",
      "execution_count": null,
      "metadata": {
        "colab": {
          "background_save": true
        },
        "id": "GmLRZJpmQJPp"
      },
      "outputs": [],
      "source": []
    }
  ],
  "metadata": {
    "colab": {
      "provenance": []
    },
    "kernelspec": {
      "display_name": "Python 3",
      "name": "python3"
    },
    "language_info": {
      "name": "python"
    }
  },
  "nbformat": 4,
  "nbformat_minor": 0
}